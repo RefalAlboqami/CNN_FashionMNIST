{
 "cells": [
  {
   "cell_type": "markdown",
   "metadata": {},
   "source": [
    "# Import software libraries and load the dataset #"
   ]
  },
  {
   "cell_type": "code",
   "execution_count": 162,
   "metadata": {},
   "outputs": [],
   "source": [
    "import numpy as np\n",
    "import matplotlib.pyplot as plt\n",
    "%matplotlib inline\n",
    "\n",
    "import keras\n",
    "from keras.models import Sequential\n",
    "from keras.utils import to_categorical\n",
    "from keras.layers import Dense, Conv2D, MaxPooling2D, Dropout, Flatten\n",
    "from sklearn.model_selection import train_test_split\n",
    "import tensorflow as tf\n",
    "\n",
    "import pickle"
   ]
  },
  {
   "cell_type": "markdown",
   "metadata": {},
   "source": [
    "# Load the fashion mnist dataset\n",
    "\n",
    "- Dataset provided from keras.\n",
    "- Print the number of training images and testing images.\n",
    "- Print the number of labels (unique)."
   ]
  },
  {
   "cell_type": "code",
   "execution_count": 129,
   "metadata": {
    "scrolled": false
   },
   "outputs": [
    {
     "data": {
      "text/plain": [
       "((array([[[0, 0, 0, ..., 0, 0, 0],\n",
       "          [0, 0, 0, ..., 0, 0, 0],\n",
       "          [0, 0, 0, ..., 0, 0, 0],\n",
       "          ...,\n",
       "          [0, 0, 0, ..., 0, 0, 0],\n",
       "          [0, 0, 0, ..., 0, 0, 0],\n",
       "          [0, 0, 0, ..., 0, 0, 0]],\n",
       "  \n",
       "         [[0, 0, 0, ..., 0, 0, 0],\n",
       "          [0, 0, 0, ..., 0, 0, 0],\n",
       "          [0, 0, 0, ..., 0, 0, 0],\n",
       "          ...,\n",
       "          [0, 0, 0, ..., 0, 0, 0],\n",
       "          [0, 0, 0, ..., 0, 0, 0],\n",
       "          [0, 0, 0, ..., 0, 0, 0]],\n",
       "  \n",
       "         [[0, 0, 0, ..., 0, 0, 0],\n",
       "          [0, 0, 0, ..., 0, 0, 0],\n",
       "          [0, 0, 0, ..., 0, 0, 0],\n",
       "          ...,\n",
       "          [0, 0, 0, ..., 0, 0, 0],\n",
       "          [0, 0, 0, ..., 0, 0, 0],\n",
       "          [0, 0, 0, ..., 0, 0, 0]],\n",
       "  \n",
       "         ...,\n",
       "  \n",
       "         [[0, 0, 0, ..., 0, 0, 0],\n",
       "          [0, 0, 0, ..., 0, 0, 0],\n",
       "          [0, 0, 0, ..., 0, 0, 0],\n",
       "          ...,\n",
       "          [0, 0, 0, ..., 0, 0, 0],\n",
       "          [0, 0, 0, ..., 0, 0, 0],\n",
       "          [0, 0, 0, ..., 0, 0, 0]],\n",
       "  \n",
       "         [[0, 0, 0, ..., 0, 0, 0],\n",
       "          [0, 0, 0, ..., 0, 0, 0],\n",
       "          [0, 0, 0, ..., 0, 0, 0],\n",
       "          ...,\n",
       "          [0, 0, 0, ..., 0, 0, 0],\n",
       "          [0, 0, 0, ..., 0, 0, 0],\n",
       "          [0, 0, 0, ..., 0, 0, 0]],\n",
       "  \n",
       "         [[0, 0, 0, ..., 0, 0, 0],\n",
       "          [0, 0, 0, ..., 0, 0, 0],\n",
       "          [0, 0, 0, ..., 0, 0, 0],\n",
       "          ...,\n",
       "          [0, 0, 0, ..., 0, 0, 0],\n",
       "          [0, 0, 0, ..., 0, 0, 0],\n",
       "          [0, 0, 0, ..., 0, 0, 0]]], dtype=uint8),\n",
       "  array([9, 0, 0, ..., 3, 0, 5], dtype=uint8)),\n",
       " (array([[[0, 0, 0, ..., 0, 0, 0],\n",
       "          [0, 0, 0, ..., 0, 0, 0],\n",
       "          [0, 0, 0, ..., 0, 0, 0],\n",
       "          ...,\n",
       "          [0, 0, 0, ..., 0, 0, 0],\n",
       "          [0, 0, 0, ..., 0, 0, 0],\n",
       "          [0, 0, 0, ..., 0, 0, 0]],\n",
       "  \n",
       "         [[0, 0, 0, ..., 0, 0, 0],\n",
       "          [0, 0, 0, ..., 0, 0, 0],\n",
       "          [0, 0, 0, ..., 0, 0, 0],\n",
       "          ...,\n",
       "          [0, 0, 0, ..., 0, 0, 0],\n",
       "          [0, 0, 0, ..., 0, 0, 0],\n",
       "          [0, 0, 0, ..., 0, 0, 0]],\n",
       "  \n",
       "         [[0, 0, 0, ..., 0, 0, 0],\n",
       "          [0, 0, 0, ..., 0, 0, 0],\n",
       "          [0, 0, 0, ..., 0, 0, 0],\n",
       "          ...,\n",
       "          [0, 0, 0, ..., 0, 0, 0],\n",
       "          [0, 0, 0, ..., 0, 0, 0],\n",
       "          [0, 0, 0, ..., 0, 0, 0]],\n",
       "  \n",
       "         ...,\n",
       "  \n",
       "         [[0, 0, 0, ..., 0, 0, 0],\n",
       "          [0, 0, 0, ..., 0, 0, 0],\n",
       "          [0, 0, 0, ..., 0, 0, 0],\n",
       "          ...,\n",
       "          [0, 0, 0, ..., 0, 0, 0],\n",
       "          [0, 0, 0, ..., 0, 0, 0],\n",
       "          [0, 0, 0, ..., 0, 0, 0]],\n",
       "  \n",
       "         [[0, 0, 0, ..., 0, 0, 0],\n",
       "          [0, 0, 0, ..., 0, 0, 0],\n",
       "          [0, 0, 0, ..., 0, 0, 0],\n",
       "          ...,\n",
       "          [0, 0, 0, ..., 0, 0, 0],\n",
       "          [0, 0, 0, ..., 0, 0, 0],\n",
       "          [0, 0, 0, ..., 0, 0, 0]],\n",
       "  \n",
       "         [[0, 0, 0, ..., 0, 0, 0],\n",
       "          [0, 0, 0, ..., 0, 0, 0],\n",
       "          [0, 0, 0, ..., 0, 0, 0],\n",
       "          ...,\n",
       "          [0, 0, 0, ..., 0, 0, 0],\n",
       "          [0, 0, 0, ..., 0, 0, 0],\n",
       "          [0, 0, 0, ..., 0, 0, 0]]], dtype=uint8),\n",
       "  array([9, 2, 1, ..., 8, 1, 5], dtype=uint8)))"
      ]
     },
     "execution_count": 129,
     "metadata": {},
     "output_type": "execute_result"
    }
   ],
   "source": [
    "from keras.datasets import fashion_mnist\n",
    "keras.datasets.fashion_mnist.load_data()"
   ]
  },
  {
   "cell_type": "markdown",
   "metadata": {},
   "source": [
    "# What is the shape of each image?"
   ]
  },
  {
   "cell_type": "code",
   "execution_count": 130,
   "metadata": {},
   "outputs": [
    {
     "name": "stdout",
     "output_type": "stream",
     "text": [
      "28 28\n",
      "Training data shape : (60000, 28, 28) (60000,)\n",
      "Testing data shape  : (10000, 28, 28) (10000,)\n"
     ]
    }
   ],
   "source": [
    "(train_images, train_labels), (test_images, test_labels) = fashion_mnist.load_data()\n",
    "nRows, nCols  = train_images.shape[1:]\n",
    "print(nRows, nCols)\n",
    "print('Training data shape :', train_images.shape, train_labels.shape)\n",
    "print('Testing data shape  :', test_images.shape, test_labels.shape)"
   ]
  },
  {
   "cell_type": "markdown",
   "metadata": {},
   "source": [
    "# The labels are encoded, find the name of each encoded label."
   ]
  },
  {
   "cell_type": "code",
   "execution_count": 131,
   "metadata": {},
   "outputs": [
    {
     "name": "stdout",
     "output_type": "stream",
     "text": [
      "Total number of outputs :  10\n",
      "Output classes:  [0 1 2 3 4 5 6 7 8 9]\n",
      "Classes Names:  ('T-shirt/top', 'Trouser', 'Pullover', 'Dress', 'Coat', 'Sandal', 'Shirt', 'Sneaker', 'Bag', 'Ankle boot')\n"
     ]
    }
   ],
   "source": [
    "classes = np.unique(train_labels)\n",
    "nClasses = len(classes)\n",
    "print('Total number of outputs : ', nClasses)\n",
    "catCla=('T-shirt/top', 'Trouser', 'Pullover', 'Dress', 'Coat', 'Sandal', 'Shirt', 'Sneaker', 'Bag', 'Ankle boot')\n",
    "print('Output classes: ', classes)\n",
    "print('Classes Names: ', catCla)"
   ]
  },
  {
   "cell_type": "markdown",
   "metadata": {},
   "source": [
    "# Plot 25 samples from the dataset"
   ]
  },
  {
   "cell_type": "code",
   "execution_count": 132,
   "metadata": {},
   "outputs": [
    {
     "data": {
      "image/png": "[encoded data removed]",
      "text/plain": [
       "<Figure size 1000x1000 with 25 Axes>"
      ]
     },
     "metadata": {},
     "output_type": "display_data"
    }
   ],
   "source": [
    "num_samples = 25\n",
    "plt.figure(figsize=(10, 10))\n",
    "for i in range(num_samples):\n",
    "    plt.subplot(5, 5, i + 1)\n",
    "    plt.imshow(train_images[i+10,:,:], cmap='gray')\n",
    "    plt.title(\"Ground Truth : {}\".format(train_labels[i]));\n",
    "plt.suptitle('25 Samples from Fashion MNIST Dataset')\n",
    "plt.tight_layout()\n",
    "plt.show()"
   ]
  },
  {
   "cell_type": "markdown",
   "metadata": {},
   "source": [
    "# Prepare the data for training with Keras\n",
    "\n",
    "- Hint : Use reshape method.\n",
    "- Do not forget the one hot encoding process (use the method provided from keras)."
   ]
  },
  {
   "cell_type": "code",
   "execution_count": 133,
   "metadata": {},
   "outputs": [
    {
     "data": {
      "text/plain": [
       "(28, 28)"
      ]
     },
     "execution_count": 133,
     "metadata": {},
     "output_type": "execute_result"
    }
   ],
   "source": [
    "nRows, nCols = train_images.shape[1:]\n",
    "nRows, nCols"
   ]
  },
  {
   "cell_type": "code",
   "execution_count": 134,
   "metadata": {},
   "outputs": [
    {
     "name": "stdout",
     "output_type": "stream",
     "text": [
      "train data shape : (60000, 28, 28)\n",
      "test data shape : (10000, 28, 28)\n"
     ]
    }
   ],
   "source": [
    "train_data = train_images.reshape((train_images.shape[0], nRows, nCols)).astype('float32') / 255\n",
    "test_data = test_images.reshape((test_images.shape[0], nRows, nCols)).astype('float32') / 255\n",
    "\n",
    "train_labels_one_hot = to_categorical(train_labels)\n",
    "test_labels_one_hot = to_categorical(test_labels)\n",
    "\n",
    "print('train data shape :', train_data.shape)\n",
    "print('test data shape :', test_data.shape)"
   ]
  },
  {
   "cell_type": "markdown",
   "metadata": {},
   "source": [
    "# Split the datasets into training and testing\n",
    "\n",
    "- Hint : Use the training set (training and validation sets).\n",
    "- Do not worry about the testing set provided from the dataset we will get with later on, do not touch it!!"
   ]
  },
  {
   "cell_type": "code",
   "execution_count": 135,
   "metadata": {},
   "outputs": [],
   "source": [
    "train_images, val_images, train_labels, val_labels = train_test_split(train_images,\n",
    "                                                                      train_labels_one_hot,\n",
    "                                                                      test_size=0.2,\n",
    "                                                                      random_state=42)"
   ]
  },
  {
   "cell_type": "markdown",
   "metadata": {},
   "source": [
    "# Build the CNN structure\n",
    "\n",
    "- The model contains the following layers :-\n",
    "\n",
    "    1 - First Conv Layer :-\n",
    "    \n",
    "    2 - Activation Layer\n",
    "    \n",
    "    3 - Pooling Layer\n",
    "    \n",
    "    4 - Second Conv Layer\n",
    "    \n",
    "    5 - Activation Layer\n",
    "    \n",
    "    6 - Pooling Layer\n",
    "    \n",
    "    7 - Third Conv Layer\n",
    "    \n",
    "    8 - Activation Layer\n",
    "    \n",
    "    9 - Pooling Layer\n",
    "    \n",
    "    10 - Flatten Layer\n",
    "    \n",
    "    11 - Dense Layer\n",
    "    \n",
    "    In the Conv layers we have these parameters :-\n",
    "        \n",
    "        a. filters : What is the number of filters of the Conv layer, make it 32 (try to change it if you want).\n",
    "        b. kernel_size : The filter size of the Conv layer, make it 3 by 3 (again try to change it).\n",
    "        c. input_shape : The image shape.\n",
    "        d. padding : make it same.\n",
    "        e. activation : make it linear (also try to change it).\n",
    "    \n",
    "    In the hidden layers, we have three activation layers. Search for the best activation function used in our problem, give\n",
    "    your reasons why did you use it, then use it.\n",
    "    In the Activation layers we have this parameter :-\n",
    "    \n",
    "        a. alpha : make it 0.1 (try to change it).\n",
    "        \n",
    "    In the Pooling layers we have these parameters :-\n",
    "    \n",
    "        a. pool_size : the pooling window size, make it 2 by 2 (try to change it).\n",
    "        b. padding : make it same.\n",
    "        \n",
    "    In the Flatten layer, make it default, because it is basically convert the tensors into vectors.\n",
    "    In the Dense layer we have these parameters :-\n",
    "    \n",
    "        a. units : the number of output labels.\n",
    "        b. activation : the function that will deal with the outputs and find the probability for each one.\n",
    "            Note : There are several activation functions as an output function, select the sutable for our problem."
   ]
  },
  {
   "cell_type": "code",
   "execution_count": 151,
   "metadata": {},
   "outputs": [],
   "source": [
    "def createModel():\n",
    "    keras.layers.Conv2D(32, (3,3), strides=(4,4), activation='relu', input_shape=(28,28,1), padding=\"same\"),\n",
    "    keras.layers.BatchNormalization(),\n",
    "    keras.layers.MaxPool2D(pool_size=(2,2)),\n",
    "    \n",
    "    keras.layers.Conv2D(64, (3,3), strides=(1,1), activation='relu', padding=\"same\"),\n",
    "    keras.layers.BatchNormalization(),\n",
    "    keras.layers.MaxPool2D(pool_size=(3,3)),\n",
    "    \n",
    "    keras.layers.Conv2D(128, (5,5), strides=(1,1), activation='relu', padding=\"same\"),\n",
    "    keras.layers.BatchNormalization(),\n",
    "    keras.layers.MaxPool2D(pool_size=(2,2)),\n",
    "    \n",
    "    keras.layers.Flatten(),\n",
    "    \n",
    "    keras.layers.Dense(128,activation='relu'),\n",
    "    \n",
    "    keras.layers.Dense(10,activation='softmax')\n",
    "    \n",
    "    return model"
   ]
  },
  {
   "cell_type": "markdown",
   "metadata": {},
   "source": [
    "# Compile the model and examine the layers\n",
    "\n",
    "- Find the best optimizer.\n",
    "- What is the best loss function in this problem? (multi class).\n",
    "- Do not forget the metric!! What is the best metric??"
   ]
  },
  {
   "cell_type": "code",
   "execution_count": 152,
   "metadata": {},
   "outputs": [],
   "source": [
    "model.compile(\n",
    "    optimizer='adam',\n",
    "    loss='categorical_crossentropy',\n",
    "    metrics=['accuracy']    \n",
    ")"
   ]
  },
  {
   "cell_type": "markdown",
   "metadata": {},
   "source": [
    "# Give me a summary of the NN"
   ]
  },
  {
   "cell_type": "code",
   "execution_count": 153,
   "metadata": {},
   "outputs": [
    {
     "name": "stdout",
     "output_type": "stream",
     "text": [
      "Model: \"sequential_2\"\n",
      "_________________________________________________________________\n",
      " Layer (type)                Output Shape              Param #   \n",
      "=================================================================\n",
      " conv2d_30 (Conv2D)          (None, 28, 28, 32)        320       \n",
      "                                                                 \n",
      " max_pooling2d_30 (MaxPooli  (None, 14, 14, 32)        0         \n",
      " ng2D)                                                           \n",
      "                                                                 \n",
      " conv2d_31 (Conv2D)          (None, 14, 14, 32)        9248      \n",
      "                                                                 \n",
      " max_pooling2d_31 (MaxPooli  (None, 7, 7, 32)          0         \n",
      " ng2D)                                                           \n",
      "                                                                 \n",
      " conv2d_32 (Conv2D)          (None, 7, 7, 32)          9248      \n",
      "                                                                 \n",
      " max_pooling2d_32 (MaxPooli  (None, 4, 4, 32)          0         \n",
      " ng2D)                                                           \n",
      "                                                                 \n",
      " flatten_10 (Flatten)        (None, 512)               0         \n",
      "                                                                 \n",
      " dense_20 (Dense)            (None, 128)               65664     \n",
      "                                                                 \n",
      " dense_21 (Dense)            (None, 10)                1290      \n",
      "                                                                 \n",
      "=================================================================\n",
      "Total params: 85770 (335.04 KB)\n",
      "Trainable params: 85770 (335.04 KB)\n",
      "Non-trainable params: 0 (0.00 Byte)\n",
      "_________________________________________________________________\n"
     ]
    }
   ],
   "source": [
    "model.summary()"
   ]
  },
  {
   "cell_type": "code",
   "execution_count": 156,
   "metadata": {},
   "outputs": [],
   "source": [
    "batch_size = 256\n",
    "epochs = 20"
   ]
  },
  {
   "cell_type": "code",
   "execution_count": 157,
   "metadata": {},
   "outputs": [
    {
     "name": "stdout",
     "output_type": "stream",
     "text": [
      "Epoch 1/20\n",
      "235/235 [==============================] - 6s 26ms/step - loss: 0.2164 - accuracy: 0.9204 - val_loss: 0.2585 - val_accuracy: 0.9048\n",
      "Epoch 2/20\n",
      "235/235 [==============================] - 5s 23ms/step - loss: 0.2082 - accuracy: 0.9240 - val_loss: 0.2569 - val_accuracy: 0.9061\n",
      "Epoch 3/20\n",
      "235/235 [==============================] - 5s 20ms/step - loss: 0.2020 - accuracy: 0.9255 - val_loss: 0.2458 - val_accuracy: 0.9106\n",
      "Epoch 4/20\n",
      "235/235 [==============================] - 5s 20ms/step - loss: 0.1918 - accuracy: 0.9295 - val_loss: 0.2633 - val_accuracy: 0.9061\n",
      "Epoch 5/20\n",
      "235/235 [==============================] - 5s 21ms/step - loss: 0.1875 - accuracy: 0.9312 - val_loss: 0.2440 - val_accuracy: 0.9131\n",
      "Epoch 6/20\n",
      "235/235 [==============================] - 5s 20ms/step - loss: 0.1773 - accuracy: 0.9346 - val_loss: 0.2593 - val_accuracy: 0.9069\n",
      "Epoch 7/20\n",
      "235/235 [==============================] - 5s 20ms/step - loss: 0.1715 - accuracy: 0.9363 - val_loss: 0.2411 - val_accuracy: 0.9126\n",
      "Epoch 8/20\n",
      "235/235 [==============================] - 5s 21ms/step - loss: 0.1646 - accuracy: 0.9391 - val_loss: 0.2406 - val_accuracy: 0.9133\n",
      "Epoch 9/20\n",
      "235/235 [==============================] - 5s 20ms/step - loss: 0.1576 - accuracy: 0.9416 - val_loss: 0.2549 - val_accuracy: 0.9113\n",
      "Epoch 10/20\n",
      "235/235 [==============================] - 5s 20ms/step - loss: 0.1537 - accuracy: 0.9434 - val_loss: 0.2372 - val_accuracy: 0.9178\n",
      "Epoch 11/20\n",
      "235/235 [==============================] - 5s 21ms/step - loss: 0.1460 - accuracy: 0.9464 - val_loss: 0.2390 - val_accuracy: 0.9168\n",
      "Epoch 12/20\n",
      "235/235 [==============================] - 5s 20ms/step - loss: 0.1406 - accuracy: 0.9477 - val_loss: 0.2473 - val_accuracy: 0.9154\n",
      "Epoch 13/20\n",
      "235/235 [==============================] - 5s 20ms/step - loss: 0.1349 - accuracy: 0.9505 - val_loss: 0.2552 - val_accuracy: 0.9133\n",
      "Epoch 14/20\n",
      "235/235 [==============================] - 5s 20ms/step - loss: 0.1287 - accuracy: 0.9514 - val_loss: 0.2566 - val_accuracy: 0.9132\n",
      "Epoch 15/20\n",
      "235/235 [==============================] - 5s 21ms/step - loss: 0.1234 - accuracy: 0.9543 - val_loss: 0.2503 - val_accuracy: 0.9187\n",
      "Epoch 16/20\n",
      "235/235 [==============================] - 5s 20ms/step - loss: 0.1187 - accuracy: 0.9558 - val_loss: 0.2590 - val_accuracy: 0.9134\n",
      "Epoch 17/20\n",
      "235/235 [==============================] - 5s 20ms/step - loss: 0.1153 - accuracy: 0.9568 - val_loss: 0.2622 - val_accuracy: 0.9168\n",
      "Epoch 18/20\n",
      "235/235 [==============================] - 5s 21ms/step - loss: 0.1088 - accuracy: 0.9597 - val_loss: 0.2663 - val_accuracy: 0.9149\n",
      "Epoch 19/20\n",
      "235/235 [==============================] - 5s 20ms/step - loss: 0.1062 - accuracy: 0.9608 - val_loss: 0.2688 - val_accuracy: 0.9148\n",
      "Epoch 20/20\n",
      "235/235 [==============================] - 5s 20ms/step - loss: 0.1018 - accuracy: 0.9617 - val_loss: 0.2618 - val_accuracy: 0.9173\n"
     ]
    }
   ],
   "source": [
    "history = model.fit(\n",
    "    train_data, train_labels_one_hot, batch_size=batch_size,\n",
    "    epochs=epochs, verbose=1, validation_data=(test_data, test_labels_one_hot)\n",
    ")"
   ]
  },
  {
   "cell_type": "markdown",
   "metadata": {},
   "source": [
    "# Plot the structure of the NN and save it as a png image.\n",
    "\n",
    "- Hint : Use plot_model function from keras.utils"
   ]
  },
  {
   "cell_type": "code",
   "execution_count": null,
   "metadata": {},
   "outputs": [],
   "source": []
  },
  {
   "cell_type": "markdown",
   "metadata": {},
   "source": [
    "# Train the model\n",
    "\n",
    "- The x parameter should receive the training images.\n",
    "- The y parameter should receive the training labels.\n",
    "- The validation_data parameter should receive the validation data (the data we use with train_test_split).\n",
    "- The epochs parameter should receive the number of epochs in the model, you can make it 1 it is ok.\n",
    "    Note : You can increase the epochs, this will decrease the loss, but the loss will stop decreasing in sometimes.\n",
    "- Make the verbose parameter 1."
   ]
  },
  {
   "cell_type": "code",
   "execution_count": 158,
   "metadata": {},
   "outputs": [
    {
     "name": "stdout",
     "output_type": "stream",
     "text": [
      "Epoch 1/20\n",
      "1500/1500 [==============================] - 7s 4ms/step - loss: 2.8874 - accuracy: 0.7843 - val_loss: 0.6181 - val_accuracy: 0.8083\n",
      "Epoch 2/20\n",
      "1500/1500 [==============================] - 6s 4ms/step - loss: 0.4740 - accuracy: 0.8376 - val_loss: 0.4941 - val_accuracy: 0.8449\n",
      "Epoch 3/20\n",
      "1500/1500 [==============================] - 6s 4ms/step - loss: 0.3881 - accuracy: 0.8630 - val_loss: 0.4053 - val_accuracy: 0.8671\n",
      "Epoch 4/20\n",
      "1500/1500 [==============================] - 6s 4ms/step - loss: 0.3456 - accuracy: 0.8760 - val_loss: 0.4149 - val_accuracy: 0.8618\n",
      "Epoch 5/20\n",
      "1500/1500 [==============================] - 7s 5ms/step - loss: 0.3189 - accuracy: 0.8855 - val_loss: 0.3557 - val_accuracy: 0.8785\n",
      "Epoch 6/20\n",
      "1500/1500 [==============================] - 7s 5ms/step - loss: 0.3005 - accuracy: 0.8930 - val_loss: 0.3289 - val_accuracy: 0.8895\n",
      "Epoch 7/20\n",
      "1500/1500 [==============================] - 7s 5ms/step - loss: 0.2752 - accuracy: 0.9003 - val_loss: 0.3556 - val_accuracy: 0.8797\n",
      "Epoch 8/20\n",
      "1500/1500 [==============================] - 8s 5ms/step - loss: 0.2602 - accuracy: 0.9055 - val_loss: 0.2943 - val_accuracy: 0.8976\n",
      "Epoch 9/20\n",
      "1500/1500 [==============================] - 7s 5ms/step - loss: 0.2486 - accuracy: 0.9102 - val_loss: 0.2971 - val_accuracy: 0.8963\n",
      "Epoch 10/20\n",
      "1500/1500 [==============================] - 7s 5ms/step - loss: 0.2330 - accuracy: 0.9148 - val_loss: 0.3022 - val_accuracy: 0.8967\n",
      "Epoch 11/20\n",
      "1500/1500 [==============================] - 7s 5ms/step - loss: 0.2283 - accuracy: 0.9178 - val_loss: 0.3008 - val_accuracy: 0.8987\n",
      "Epoch 12/20\n",
      "1500/1500 [==============================] - 8s 5ms/step - loss: 0.2166 - accuracy: 0.9202 - val_loss: 0.3026 - val_accuracy: 0.8967\n",
      "Epoch 13/20\n",
      "1500/1500 [==============================] - 8s 5ms/step - loss: 0.2082 - accuracy: 0.9241 - val_loss: 0.3329 - val_accuracy: 0.8940\n",
      "Epoch 14/20\n",
      "1500/1500 [==============================] - 8s 5ms/step - loss: 0.2055 - accuracy: 0.9241 - val_loss: 0.2877 - val_accuracy: 0.9077\n",
      "Epoch 15/20\n",
      "1500/1500 [==============================] - 9s 6ms/step - loss: 0.1941 - accuracy: 0.9287 - val_loss: 0.3098 - val_accuracy: 0.9054\n",
      "Epoch 16/20\n",
      "1500/1500 [==============================] - 8s 6ms/step - loss: 0.1909 - accuracy: 0.9306 - val_loss: 0.2898 - val_accuracy: 0.9069\n",
      "Epoch 17/20\n",
      "1500/1500 [==============================] - 8s 5ms/step - loss: 0.1840 - accuracy: 0.9321 - val_loss: 0.3130 - val_accuracy: 0.8953\n",
      "Epoch 18/20\n",
      "1500/1500 [==============================] - 8s 5ms/step - loss: 0.1813 - accuracy: 0.9346 - val_loss: 0.3320 - val_accuracy: 0.9048\n",
      "Epoch 19/20\n",
      "1500/1500 [==============================] - 8s 5ms/step - loss: 0.1723 - accuracy: 0.9371 - val_loss: 0.3342 - val_accuracy: 0.9018\n",
      "Epoch 20/20\n",
      "1500/1500 [==============================] - 8s 5ms/step - loss: 0.1763 - accuracy: 0.9354 - val_loss: 0.3261 - val_accuracy: 0.9043\n"
     ]
    }
   ],
   "source": [
    "history = model.fit(train_images, train_labels, validation_data=(val_images, val_labels), epochs=epochs, verbose=1)"
   ]
  },
  {
   "cell_type": "markdown",
   "metadata": {},
   "source": [
    "# Evaluate the model on the test data\n",
    "\n",
    "- Use evaluate function to find the performance of the model.\n",
    "- The x parameter should receive the testing images (the testing images we get from the dataset).\n",
    "- The y parameter should receive the testing labels.\n",
    "- You need to print the metric you choose before and the loss values."
   ]
  },
  {
   "cell_type": "code",
   "execution_count": 160,
   "metadata": {},
   "outputs": [
    {
     "name": "stdout",
     "output_type": "stream",
     "text": [
      "313/313 [==============================] - 1s 2ms/step - loss: 0.3539 - accuracy: 0.8994\n",
      "Test Accuracy: 89.94%\n",
      "Test Loss: 0.3539\n"
     ]
    }
   ],
   "source": [
    "test_loss, test_accuracy = model.evaluate(test_images, test_labels_one_hot)\n",
    "print(f\"Test Accuracy: {test_accuracy * 100:.2f}%\")\n",
    "print(f\"Test Loss: {test_loss:.4f}\")"
   ]
  },
  {
   "cell_type": "markdown",
   "metadata": {},
   "source": [
    "# Make predictions on the test data\n",
    "\n",
    "- Just print the first ten predictions and compare them with the actual values."
   ]
  },
  {
   "cell_type": "code",
   "execution_count": 161,
   "metadata": {},
   "outputs": [
    {
     "name": "stdout",
     "output_type": "stream",
     "text": [
      "313/313 [==============================] - 1s 2ms/step\n",
      "Predicted: 9 | Actual: 9\n",
      "Predicted: 2 | Actual: 2\n",
      "Predicted: 1 | Actual: 1\n",
      "Predicted: 1 | Actual: 1\n",
      "Predicted: 6 | Actual: 6\n",
      "Predicted: 1 | Actual: 1\n",
      "Predicted: 2 | Actual: 4\n",
      "Predicted: 6 | Actual: 6\n",
      "Predicted: 5 | Actual: 5\n",
      "Predicted: 7 | Actual: 7\n"
     ]
    }
   ],
   "source": [
    "pred = model.predict(test_images)\n",
    "\n",
    "for i in range(10):\n",
    "    pred_label = np.argmax(pred[i])\n",
    "    label = test_labels[i]\n",
    "    print(f\"Predicted: {pred_label} | Actual: {label}\")"
   ]
  },
  {
   "cell_type": "markdown",
   "metadata": {},
   "source": [
    "# Visualize the predictions for several examples (25 is enough).\n",
    "\n",
    "- For each image, print the image with the actual value and predicted value."
   ]
  },
  {
   "cell_type": "code",
   "execution_count": null,
   "metadata": {},
   "outputs": [],
   "source": []
  },
  {
   "cell_type": "markdown",
   "metadata": {},
   "source": [
    "# Save the model as pickle file"
   ]
  },
  {
   "cell_type": "code",
   "execution_count": 163,
   "metadata": {},
   "outputs": [
    {
     "name": "stderr",
     "output_type": "stream",
     "text": [
      "C:\\Users\\rifal\\anaconda3\\Lib\\site-packages\\keras\\src\\engine\\training.py:3103: UserWarning: You are saving your model as an HDF5 file via `model.save()`. This file format is considered legacy. We recommend using instead the native Keras format, e.g. `model.save('my_model.keras')`.\n",
      "  saving_api.save_model(\n"
     ]
    }
   ],
   "source": [
    "model.save('fashion_mnist_model.h5')\n",
    "\n",
    "loaded_model = keras.models.load_model('fashion_mnist_model.h5')\n",
    "\n",
    "with open('fashion_mnist_model.pkl', 'wb') as file:\n",
    "    pickle.dump(loaded_model, file)"
   ]
  },
  {
   "cell_type": "code",
   "execution_count": null,
   "metadata": {},
   "outputs": [],
   "source": []
  }
 ],
 "metadata": {
  "kernelspec": {
   "display_name": "Python 3 (ipykernel)",
   "language": "python",
   "name": "python3"
  },
  "language_info": {
   "codemirror_mode": {
    "name": "ipython",
    "version": 3
   },
   "file_extension": ".py",
   "mimetype": "text/x-python",
   "name": "python",
   "nbconvert_exporter": "python",
   "pygments_lexer": "ipython3",
   "version": "3.11.5"
  }
 },
 "nbformat": 4,
 "nbformat_minor": 2
}
